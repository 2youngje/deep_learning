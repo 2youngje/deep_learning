{
 "cells": [
  {
   "cell_type": "code",
   "execution_count": 1,
   "id": "initial_id",
   "metadata": {
    "collapsed": true,
    "ExecuteTime": {
     "end_time": "2023-12-01T01:05:35.726993569Z",
     "start_time": "2023-12-01T01:05:34.294751602Z"
    }
   },
   "outputs": [],
   "source": [
    "import torch.nn as nn\n",
    "import torch\n",
    "from torchsummary import summary"
   ]
  },
  {
   "cell_type": "code",
   "execution_count": 2,
   "outputs": [],
   "source": [
    "class ResidualBlock(nn.Module):\n",
    "    def __init__(self, in_channels, out_channels):\n",
    "        super(ResidualBlock, self).__init__()\n",
    "        self.conv_path = nn.Sequential(\n",
    "            nn.Conv2d(in_channels=in_channels, out_channels=out_channels,\n",
    "                      kernel_size=3, padding=1, stride=1),\n",
    "            nn.ReLU(),\n",
    "            nn.Conv2d(in_channels=out_channels, out_channels=out_channels,\n",
    "                      kernel_size=3, padding=1, stride=1))\n",
    "\n",
    "        self.skip_path = nn.Identity()\n",
    "        self.out_act = nn.ReLU()\n",
    "\n",
    "    def forward(self, x):\n",
    "        out = self.conv_path(x)\n",
    "        out += self.skip_path(x)\n",
    "        out = self.out_act(out)\n",
    "        return out"
   ],
   "metadata": {
    "collapsed": false,
    "ExecuteTime": {
     "end_time": "2023-12-01T01:06:08.170369194Z",
     "start_time": "2023-12-01T01:06:08.128211626Z"
    }
   },
   "id": "fce6a95d32b3ce4f"
  },
  {
   "cell_type": "code",
   "execution_count": 3,
   "outputs": [],
   "source": [
    "class ResidualBlockDown(nn.Module):\n",
    "    def __init__(self, in_channels, out_channels):\n",
    "        super(ResidualBlockDown, self).__init__()\n",
    "\n",
    "        self.conv_path = nn.Sequential(\n",
    "            nn.Conv2d(in_channels=in_channels, out_channels=out_channels,\n",
    "                      kernel_size=3, padding=1, stride=2),\n",
    "            nn.ReLU(),\n",
    "            nn.Conv2d(in_channels=out_channels, out_channels=out_channels,\n",
    "                      kernel_size=3, padding=1, stride=1))\n",
    "\n",
    "        self.skip_path = nn.Conv2d(in_channels=in_channels, out_channels=out_channels,\n",
    "                                   kernel_size=1, padding=0, stride=2)\n",
    "\n",
    "        self.out_act = nn.ReLU()\n",
    "\n",
    "    def forward(self, x):\n",
    "        out = self.conv_path(x)\n",
    "        out += self.skip_path(x)\n",
    "        out = self.out_act(out)\n",
    "        return out"
   ],
   "metadata": {
    "collapsed": false,
    "ExecuteTime": {
     "end_time": "2023-12-01T01:06:30.388718244Z",
     "start_time": "2023-12-01T01:06:30.372429029Z"
    }
   },
   "id": "7e60f20f0d84c783"
  },
  {
   "cell_type": "code",
   "execution_count": 4,
   "outputs": [
    {
     "name": "stdout",
     "output_type": "stream",
     "text": [
      "torch.Size([32, 1000])\n"
     ]
    }
   ],
   "source": [
    "class ResNet34(nn.Module):\n",
    "    def __init__(self, in_channels):\n",
    "        super(ResNet34, self).__init__()\n",
    "        # 1\n",
    "        self.conv1 = nn.Conv2d(in_channels=in_channels, out_channels=64,\n",
    "                               kernel_size=7, stride=2, padding=3)\n",
    "        self.conv1_act = nn.ReLU()\n",
    "\n",
    "        # 2\n",
    "        self.conv2 = nn.Sequential(\n",
    "            nn.MaxPool2d(kernel_size=3, stride=2, padding=1),\n",
    "            ResidualBlock(in_channels=64, out_channels=64),\n",
    "            ResidualBlock(in_channels=64, out_channels=64),\n",
    "            ResidualBlock(in_channels=64, out_channels=64))\n",
    "        self.conv2_act = nn.ReLU()\n",
    "\n",
    "        # 3\n",
    "        self.conv3 = nn.Sequential(\n",
    "            ResidualBlockDown(in_channels=64, out_channels=128),\n",
    "            ResidualBlock(in_channels=128, out_channels=128),\n",
    "            ResidualBlock(in_channels=128, out_channels=128),\n",
    "            ResidualBlock(in_channels=128, out_channels=128))\n",
    "        self.conv3_act = nn.ReLU()\n",
    "\n",
    "        # 4\n",
    "        self.conv4 = nn.Sequential(\n",
    "            ResidualBlockDown(in_channels=128, out_channels=256),\n",
    "            ResidualBlock(in_channels=256, out_channels=256),\n",
    "            ResidualBlock(in_channels=256, out_channels=256),\n",
    "            ResidualBlock(in_channels=256, out_channels=256),\n",
    "            ResidualBlock(in_channels=256, out_channels=256),\n",
    "            ResidualBlock(in_channels=256, out_channels=256))\n",
    "        self.conv4_act = nn.ReLU()\n",
    "\n",
    "        # 5\n",
    "        self.conv5 = nn.Sequential(\n",
    "            ResidualBlockDown(in_channels=256, out_channels=512),\n",
    "            ResidualBlock(in_channels=512, out_channels=512),\n",
    "            ResidualBlock(in_channels=512, out_channels=512))\n",
    "        self.conv5_act = nn.ReLU()\n",
    "\n",
    "        # 6\n",
    "        self.avgpool = nn.AvgPool2d(kernel_size=7, stride=1)\n",
    "        self.fc = nn.Linear(in_features=512, out_features=1000)\n",
    "\n",
    "    def forward(self, x):\n",
    "        x = self.conv1(x)\n",
    "        x = self.conv1_act(x)\n",
    "        x = self.conv2(x)\n",
    "        x = self.conv2_act(x)\n",
    "        x = self.conv3(x)\n",
    "        x = self.conv3_act(x)\n",
    "        x = self.conv4(x)\n",
    "        x = self.conv4_act(x)\n",
    "        x = self.conv5(x)\n",
    "        x = self.conv5_act(x)\n",
    "\n",
    "        x = self.avgpool(x)\n",
    "        x = x.view(x.size(0), -1)\n",
    "        x = self.fc(x)\n",
    "\n",
    "        return x\n",
    "\n",
    "\n",
    "def run_resnet():\n",
    "    input_tensor = torch.randn(size=(32, 3, 224, 224))\n",
    "    model = ResNet34(in_channels=3)\n",
    "    pred = model(input_tensor)\n",
    "    print(pred.shape)\n",
    "\n",
    "run_resnet()"
   ],
   "metadata": {
    "collapsed": false,
    "ExecuteTime": {
     "end_time": "2023-12-01T01:11:27.615916536Z",
     "start_time": "2023-12-01T01:11:25.963749305Z"
    }
   },
   "id": "a84ac27940978358"
  },
  {
   "cell_type": "code",
   "execution_count": 5,
   "outputs": [],
   "source": [
    "class ResidualBlock_Total(nn.Module):\n",
    "    def __init__(self, in_channels, out_channels, stride=1):\n",
    "        super(ResidualBlock_Total,self).__init__()\n",
    "\n",
    "        self.conv_path = nn.Sequential(\n",
    "            nn.Conv2d(in_channels, out_channels, kernel_size=3, padding=1, stride=stride),\n",
    "            nn.ReLU(),\n",
    "            nn.Conv2d(out_channels, out_channels, kernel_size=3, padding=1, stride=1),\n",
    "        )\n",
    "\n",
    "        self.skip_path = nn.Identity() if stride == 1 else nn.Conv2d(in_channels, out_channels, kernel_size=1, padding=0, stride=stride)\n",
    "\n",
    "        self.out_act = nn.ReLU()\n",
    "        \n",
    "    def forward(self,x):\n",
    "        out = self.conv_path(x)\n",
    "        out += self.skip_path(x)\n",
    "        out = self.out_act(out)\n",
    "\n",
    "        return out"
   ],
   "metadata": {
    "collapsed": false,
    "ExecuteTime": {
     "end_time": "2023-12-01T01:15:21.178409421Z",
     "start_time": "2023-12-01T01:15:21.136587852Z"
    }
   },
   "id": "444fbc8cf3be5a2b"
  },
  {
   "cell_type": "code",
   "execution_count": 6,
   "outputs": [
    {
     "name": "stdout",
     "output_type": "stream",
     "text": [
      "torch.Size([32, 1000])\n"
     ]
    }
   ],
   "source": [
    "class ResNet34_re(nn.Module):\n",
    "    def __init__(self, in_channels):\n",
    "        super(ResNet34_re, self).__init__()\n",
    "        # 1\n",
    "        self.conv1 = nn.Conv2d(in_channels=in_channels, out_channels=64,\n",
    "                               kernel_size=7, stride=2, padding=3)\n",
    "        self.conv1_act = nn.ReLU()\n",
    "\n",
    "        # 2\n",
    "        self.conv2 = nn.Sequential(\n",
    "            nn.MaxPool2d(kernel_size=3, stride=2, padding=1),\n",
    "            ResidualBlock_Total(in_channels=64, out_channels=64),\n",
    "            ResidualBlock_Total(in_channels=64, out_channels=64),\n",
    "            ResidualBlock_Total(in_channels=64, out_channels=64))\n",
    "        self.conv2_act = nn.ReLU()\n",
    "\n",
    "        # 3\n",
    "        self.conv3 = nn.Sequential(\n",
    "            ResidualBlock_Total(in_channels=64, out_channels=128),\n",
    "            ResidualBlock_Total(in_channels=128, out_channels=128),\n",
    "            ResidualBlock_Total(in_channels=128, out_channels=128),\n",
    "            ResidualBlock_Total(in_channels=128, out_channels=128))\n",
    "        self.conv3_act = nn.ReLU()\n",
    "\n",
    "        # 4\n",
    "        self.conv4 = nn.Sequential(\n",
    "            ResidualBlock_Total(in_channels=128, out_channels=256),\n",
    "            ResidualBlock_Total(in_channels=256, out_channels=256),\n",
    "            ResidualBlock_Total(in_channels=256, out_channels=256),\n",
    "            ResidualBlock_Total(in_channels=256, out_channels=256),\n",
    "            ResidualBlock_Total(in_channels=256, out_channels=256),\n",
    "            ResidualBlock_Total(in_channels=256, out_channels=256))\n",
    "        self.conv4_act = nn.ReLU()\n",
    "\n",
    "        # 5\n",
    "        self.conv5 = nn.Sequential(\n",
    "            ResidualBlock_Total(in_channels=256, out_channels=512),\n",
    "            ResidualBlock_Total(in_channels=512, out_channels=512),\n",
    "            ResidualBlock_Total(in_channels=512, out_channels=512))\n",
    "        self.conv5_act = nn.ReLU()\n",
    "\n",
    "        # 6\n",
    "        self.avgpool = nn.AvgPool2d(kernel_size=7, stride=1)\n",
    "        self.fc = nn.Linear(in_features=512, out_features=1000)\n",
    "\n",
    "    def forward(self, x):\n",
    "        x = self.conv1(x)\n",
    "        x = self.conv1_act(x)\n",
    "        x = self.conv2(x)\n",
    "        x = self.conv2_act(x)\n",
    "        x = self.conv3(x)\n",
    "        x = self.conv3_act(x)\n",
    "        x = self.conv4(x)\n",
    "        x = self.conv4_act(x)\n",
    "        x = self.conv5(x)\n",
    "        x = self.conv5_act(x)\n",
    "\n",
    "        x = self.avgpool(x)\n",
    "        x = x.view(x.size(0), -1)\n",
    "        x = self.fc(x)\n",
    "\n",
    "        return x\n",
    "\n",
    "\n",
    "def run_resnet():\n",
    "    input_tensor = torch.randn(size=(32, 3, 224, 224))\n",
    "    model = ResNet34(in_channels=3)\n",
    "    pred = model(input_tensor)\n",
    "    print(pred.shape)\n",
    "\n",
    "run_resnet()"
   ],
   "metadata": {
    "collapsed": false,
    "ExecuteTime": {
     "end_time": "2023-12-01T02:43:00.676735895Z",
     "start_time": "2023-12-01T02:42:59.456748595Z"
    }
   },
   "id": "998db341160d2fe9"
  },
  {
   "cell_type": "code",
   "execution_count": null,
   "outputs": [],
   "source": [],
   "metadata": {
    "collapsed": false
   },
   "id": "226b91bd7470b25c"
  }
 ],
 "metadata": {
  "kernelspec": {
   "display_name": "Python 3",
   "language": "python",
   "name": "python3"
  },
  "language_info": {
   "codemirror_mode": {
    "name": "ipython",
    "version": 2
   },
   "file_extension": ".py",
   "mimetype": "text/x-python",
   "name": "python",
   "nbconvert_exporter": "python",
   "pygments_lexer": "ipython2",
   "version": "2.7.6"
  }
 },
 "nbformat": 4,
 "nbformat_minor": 5
}
